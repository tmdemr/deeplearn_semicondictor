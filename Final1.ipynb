{
 "cells": [
  {
   "cell_type": "code",
   "execution_count": 1,
   "metadata": {},
   "outputs": [
    {
     "name": "stdout",
     "output_type": "stream",
     "text": [
      "0  파일 길이 :  87\n",
      "0  :  C:/Users/interbird/Desktop/semiconductor2/train/0\\20200811_094805_001.jpg\n",
      "1  파일 길이 :  62\n",
      "1  :  C:/Users/interbird/Desktop/semiconductor2/train/1\\20200811_092330_001.jpg\n",
      "2  파일 길이 :  142\n",
      "2  :  C:/Users/interbird/Desktop/semiconductor2/train/2\\20200811_095448_001.jpg\n",
      "3  파일 길이 :  126\n",
      "3  :  C:/Users/interbird/Desktop/semiconductor2/train/3\\20200811_145817_001.jpg\n",
      "4  파일 길이 :  134\n",
      "4  :  C:/Users/interbird/Desktop/semiconductor2/train/4\\20200811_151430_001.jpg\n",
      "5  파일 길이 :  105\n",
      "5  :  C:/Users/interbird/Desktop/semiconductor2/train/5\\20200812_091205_001.jpg\n",
      "6  파일 길이 :  110\n",
      "6  :  C:/Users/interbird/Desktop/semiconductor2/train/6\\20200812_114653_001.jpg\n",
      "7  파일 길이 :  85\n",
      "7  :  C:/Users/interbird/Desktop/semiconductor2/train/7\\20200812_094114_001.jpg\n",
      "8  파일 길이 :  126\n",
      "8  :  C:/Users/interbird/Desktop/semiconductor2/train/8\\20200812_142222_001.jpg\n",
      "9  파일 길이 :  113\n",
      "9  :  C:/Users/interbird/Desktop/semiconductor2/train/9\\20200812_165139_001.jpg\n",
      "10  파일 길이 :  158\n",
      "10  :  C:/Users/interbird/Desktop/semiconductor2/train/10\\20200813_095240_001.jpg\n",
      "11  파일 길이 :  100\n",
      "11  :  C:/Users/interbird/Desktop/semiconductor2/train/11\\0.jpg\n",
      "12  파일 길이 :  155\n",
      "12  :  C:/Users/interbird/Desktop/semiconductor2/train/12\\20200813_095809_001.jpg\n",
      "13  파일 길이 :  137\n",
      "13  :  C:/Users/interbird/Desktop/semiconductor2/train/13\\20200813_165003_001.jpg\n",
      "14  파일 길이 :  219\n",
      "14  :  C:/Users/interbird/Desktop/semiconductor2/train/14\\20200818_090242_001.jpg\n",
      "ok 1859\n"
     ]
    },
    {
     "name": "stderr",
     "output_type": "stream",
     "text": [
      "C:\\Users\\interbird\\anaconda3\\envs\\test\\lib\\site-packages\\numpy\\core\\_asarray.py:136: VisibleDeprecationWarning: Creating an ndarray from ragged nested sequences (which is a list-or-tuple of lists-or-tuples-or ndarrays with different lengths or shapes) is deprecated. If you meant to do this, you must specify 'dtype=object' when creating the ndarray\n",
      "  return array(a, dtype, copy=False, order=order, subok=True)\n"
     ]
    }
   ],
   "source": [
    "from PIL import Image\n",
    "import os, glob, numpy as np\n",
    "from sklearn.model_selection import train_test_split\n",
    "\n",
    "caltech_dir = \"C:/Users/User/Desktop/semiconductor2/train\"\n",
    "categories = [\"0\", \"1\",\"2\", \"3\", \"4\", \"5\", \"6\",\"7\", \"8\",\"9\",\"10\",\"11\",\"12\",\"13\",\"14\"]\n",
    "nb_classes = len(categories)\n",
    "\n",
    "image_w = 64\n",
    "image_h = 64\n",
    "\n",
    "pixels = image_h * image_w * 3\n",
    "\n",
    "X = []\n",
    "y = []\n",
    "\n",
    "for idx, cat in enumerate(categories):\n",
    "    \n",
    "    #one-hot 돌리기.\n",
    "    label = [0 for i in range(nb_classes)]\n",
    "    label[idx] = 1\n",
    "\n",
    "    image_dir = caltech_dir + \"/\" + cat\n",
    "    files = glob.glob(image_dir+\"/*.jpg\")\n",
    "    print(cat, \" 파일 길이 : \", len(files))\n",
    "    for i, f in enumerate(files):\n",
    "        img = Image.open(f)\n",
    "        img = img.convert(\"RGB\")\n",
    "        img = img.resize((image_w, image_h))\n",
    "        data = np.asarray(img)\n",
    "\n",
    "        X.append(data)\n",
    "        y.append(label)\n",
    "\n",
    "        if i % 700 == 0:\n",
    "            print(cat, \" : \", f)\n",
    "\n",
    "X = np.array(X)\n",
    "y = np.array(y)\n",
    "#1 0 0 0 이면 airplanes\n",
    "#0 1 0 0 이면 buddha 이런식\n",
    "\n",
    "\n",
    "X_train, X_test, y_train, y_test = train_test_split(X, y)\n",
    "xy = (X_train, X_test, y_train, y_test)\n",
    "np.save(\"C:/Users/interbird/Desktop/semiconductor2/numpyData\", xy)\n",
    "\n",
    "\n",
    "print(\"ok\", len(y))"
   ]
  },
  {
   "cell_type": "code",
   "execution_count": 6,
   "metadata": {},
   "outputs": [],
   "source": []
  },
  {
   "cell_type": "code",
   "execution_count": 14,
   "metadata": {},
   "outputs": [
    {
     "name": "stdout",
     "output_type": "stream",
     "text": [
      "(1394, 64, 64, 3)\n",
      "1394\n"
     ]
    }
   ],
   "source": [
    "import os, glob, numpy as np\n",
    "from keras.models import Sequential\n",
    "from keras.layers import Conv2D, MaxPooling2D, Dense, Flatten, Dropout\n",
    "from keras.callbacks import EarlyStopping, ModelCheckpoint\n",
    "import matplotlib.pyplot as plt\n",
    "import tensorflow.keras.backend as K\n",
    "\n",
    "import tensorflow as tf\n",
    "\n",
    "# config = tf.compat.v1.ConfigProto()\n",
    "# config.gpu_options.allow_growth = True\n",
    "# session = tf.compat.v1.Session(config=config)\n",
    "\n",
    "data2 = np.load('C:/Users/User/Desktop/semiconductor2/numpyData.npy', allow_pickle=True)\n",
    "X_train, X_test, y_train, y_test = data2\n",
    "\n",
    "\n",
    "#X_train, X_test, y_train, y_test = np.load('./numpy_data/multi_image_data.npy')\n",
    "print(X_train.shape)\n",
    "print(X_train.shape[0])"
   ]
  },
  {
   "cell_type": "code",
   "execution_count": 3,
   "metadata": {},
   "outputs": [],
   "source": [
    "categories = [\"0\", \"1\",\"2\", \"3\", \"4\", \"5\", \"6\",\"7\", \"8\",\"9\",\"10\",\"11\",\"12\",\"13\",\"14\"]\n",
    "nb_classes = len(categories)\n",
    "\n",
    "#일반화\n",
    "X_train = X_train.astype(float) / 255\n",
    "X_test = X_test.astype(float) / 255"
   ]
  },
  {
   "cell_type": "code",
   "execution_count": 10,
   "metadata": {},
   "outputs": [],
   "source": [
    "model = Sequential()\n",
    "model.add(Conv2D(32, (3,3), padding=\"same\", input_shape=X_train.shape[1:], activation=\"relu\"))\n",
    "model.add(MaxPooling2D(pool_size=(2,2)))\n",
    "model.add(Dropout(0.25))\n",
    "\n",
    "model.add(Conv2D(64,(3,3), padding='same', activation=\"relu\"))\n",
    "model.add(Conv2D(64,(3,3)))\n",
    "model.add(MaxPooling2D(pool_size=(2,2)))\n",
    "model.add(Dropout(0.25))\n",
    "\n",
    "model.add(Flatten())\n",
    "model.add(Dense(512, activation=\"relu\"))\n",
    "model.add(Dropout(0.5))\n",
    "\n",
    "model.add(Dense(nb_classes, activation='softmax'))\n",
    "\n",
    "\n",
    "model.compile(loss='categorical_crossentropy',\n",
    "              optimizer='rmsprop',\n",
    "              metrics=['accuracy'])\n",
    "\n",
    "\n",
    "model_dir = './model'\n",
    "hdf5_file = './hd5'\n",
    "if not os.path.exists(model_dir):\n",
    "    os.mkdir(model_dir)\n",
    "\n",
    "if os.path.exists(hdf5_file):\n",
    "    model.load_weights(hdf5_file)\n",
    "else:\n",
    "    model.fit(X_train, y_train, batch_size=32, epochs = 10)\n",
    "    model.save_weights(hdf5_file)\n",
    "\n",
    "model_path = model_dir + '/multi_img_classification.model'\n",
    "checkpoint = ModelCheckpoint(filepath = model_path, monitor='val_loss', verbose=1, save_best_only=True)\n",
    "early_stopping = EarlyStopping(monitor='val_loss', patience=6)"
   ]
  },
  {
   "cell_type": "code",
   "execution_count": 6,
   "metadata": {},
   "outputs": [
    {
     "name": "stdout",
     "output_type": "stream",
     "text": [
      "Model: \"sequential_2\"\n",
      "_________________________________________________________________\n",
      "Layer (type)                 Output Shape              Param #   \n",
      "=================================================================\n",
      "conv2d_4 (Conv2D)            (None, 64, 64, 32)        896       \n",
      "_________________________________________________________________\n",
      "max_pooling2d_3 (MaxPooling2 (None, 32, 32, 32)        0         \n",
      "_________________________________________________________________\n",
      "dropout_4 (Dropout)          (None, 32, 32, 32)        0         \n",
      "_________________________________________________________________\n",
      "conv2d_5 (Conv2D)            (None, 32, 32, 64)        18496     \n",
      "_________________________________________________________________\n",
      "conv2d_6 (Conv2D)            (None, 30, 30, 64)        36928     \n",
      "_________________________________________________________________\n",
      "max_pooling2d_4 (MaxPooling2 (None, 15, 15, 64)        0         \n",
      "_________________________________________________________________\n",
      "dropout_5 (Dropout)          (None, 15, 15, 64)        0         \n",
      "_________________________________________________________________\n",
      "flatten_2 (Flatten)          (None, 14400)             0         \n",
      "_________________________________________________________________\n",
      "dense_3 (Dense)              (None, 512)               7373312   \n",
      "_________________________________________________________________\n",
      "dropout_6 (Dropout)          (None, 512)               0         \n",
      "_________________________________________________________________\n",
      "dense_4 (Dense)              (None, 15)                7695      \n",
      "=================================================================\n",
      "Total params: 7,437,327\n",
      "Trainable params: 7,437,327\n",
      "Non-trainable params: 0\n",
      "_________________________________________________________________\n"
     ]
    }
   ],
   "source": [
    "model.summary()"
   ]
  },
  {
   "cell_type": "code",
   "execution_count": 7,
   "metadata": {},
   "outputs": [
    {
     "name": "stdout",
     "output_type": "stream",
     "text": [
      "465/465 [==============================] - 1s 1ms/step\n",
      "loss =  0.0005332381527129841\n",
      "accuracy=  1.0\n"
     ]
    }
   ],
   "source": [
    "score = model.evaluate(X_test, y_test)\n",
    "print(\"loss = \", score[0])\n",
    "print(\"accuracy= \", score[1])"
   ]
  },
  {
   "cell_type": "code",
   "execution_count": 14,
   "metadata": {},
   "outputs": [
    {
     "name": "stdout",
     "output_type": "stream",
     "text": [
      "New Data Category :  11\n"
     ]
    }
   ],
   "source": [
    "test_image = 'C:/Users/User/Desktop/semiconductor2/train/11/0.jpg'\n",
    "\n",
    "img = Image.open(test_image)\n",
    "img = img.convert(\"RGB\")\n",
    "img = img.resize((64,64))\n",
    "data = np.asarray(img)\n",
    "\n",
    "X = np.array(data)\n",
    "X = X.astype(\"float\")/256\n",
    "X = X.reshape(-1,64,64,3)\n",
    "\n",
    "pred = model.predict(X)\n",
    "result = [np.argmax(value) for value in pred]\n",
    "print('New Data Category : ', categories[result[0]])\n",
    "#print(pred)"
   ]
  },
  {
   "cell_type": "code",
   "execution_count": null,
   "metadata": {},
   "outputs": [],
   "source": []
  }
 ],
 "metadata": {
  "kernelspec": {
   "display_name": "Python [conda env:test] *",
   "language": "python",
   "name": "conda-env-test-py"
  },
  "language_info": {
   "codemirror_mode": {
    "name": "ipython",
    "version": 3
   },
   "file_extension": ".py",
   "mimetype": "text/x-python",
   "name": "python",
   "nbconvert_exporter": "python",
   "pygments_lexer": "ipython3",
   "version": "3.7.7"
  }
 },
 "nbformat": 4,
 "nbformat_minor": 4
}
