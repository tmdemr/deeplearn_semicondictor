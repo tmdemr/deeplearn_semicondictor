{
 "cells": [
  {
   "cell_type": "code",
   "execution_count": 5,
   "metadata": {},
   "outputs": [
    {
     "name": "stderr",
     "output_type": "stream",
     "text": [
      "Using TensorFlow backend.\n"
     ]
    },
    {
     "name": "stdout",
     "output_type": "stream",
     "text": [
      "Found 1978 images belonging to 19 classes.\n",
      "{'1N4007G-T': 0, '1N4148': 1, '2N2222': 2, '2N3055G': 3, '2N3904': 4, '2SD882': 5, '497-1443-5-ND': 6, '497-2569-5-ND': 7, '497-3957-5-ND': 8, 'BC547B': 9, 'CA3240EZ': 10, 'CHN915': 11, 'HA17555': 12, 'IRF840': 13, 'KBY772-330': 14, 'LM339N': 15, 'LM741CN': 16, 'MC34063AD': 17, 'PC817': 18}\n",
      "Found 511 images belonging to 19 classes.\n",
      "{'1N4007G-T': 0, '1N4148': 1, '2N2222': 2, '2N3055G': 3, '2N3904': 4, '2SD882': 5, '497-1443-5-ND': 6, '497-2569-5-ND': 7, '497-3957-5-ND': 8, 'BC547B': 9, 'CA3240EZ': 10, 'CHN915': 11, 'HA17555': 12, 'IRF840': 13, 'KBY772-330': 14, 'LM339N': 15, 'LM741CN': 16, 'MC34063AD': 17, 'PC817': 18}\n"
     ]
    }
   ],
   "source": [
    "import numpy as np\n",
    "import os\n",
    "from keras.models import Sequential\n",
    "from keras.layers import Dense\n",
    "from keras.layers import Flatten\n",
    "from keras.layers.convolutional import Conv2D\n",
    "from keras.layers.convolutional import MaxPooling2D\n",
    "from keras.preprocessing.image import ImageDataGenerator\n",
    "from PIL import Image\n",
    "\n",
    "# 랜덤시드 고정시키기\n",
    "np.random.seed(3)\n",
    "\n",
    "\n",
    "# 1. 데이터 생성하기\n",
    "train_datagen = ImageDataGenerator(rescale=1./255)\n",
    "# 이미지 픽셀값을 0~1사이의 값으로 맞춰주기 위함.\n",
    "\n",
    "train_generator = train_datagen.flow_from_directory(\n",
    "        'C:/Users/interbird/Desktop/semiconductor/train',\n",
    "        target_size=(64, 64),\n",
    "        batch_size=32,\n",
    "        class_mode='categorical')\n",
    "# flow_from_directory() -> class_mode : catrgorical : 2D One-hot 부호화된 라벨이 반환됨.\n",
    "#\n",
    "print(train_generator.class_indices)\n",
    "\n",
    "test_datagen = ImageDataGenerator(rescale=1./255)\n",
    "test_generator = test_datagen.flow_from_directory(\n",
    "        'C:/Users/interbird/Desktop/semiconductor/val',\n",
    "        target_size=(64, 64),    \n",
    "        batch_size=32,\n",
    "        class_mode='categorical')\n",
    "#batch_size = 몇 문항을 풀고 답을 맞추는가\n",
    "print(test_generator.class_indices)\n",
    "\n",
    "# 클래스 모델을 categorical로 지정하여 one_shot 부호화된 라벨이 반환되도록 함.\n",
    "# one_shot 인코딩 시 2D numpy 배열로 변환됨. 다중 레이블 출력을 지원함.\n",
    "# binary, input, multi_output, raw, sparse 등 옵션O\n"
   ]
  },
  {
   "cell_type": "code",
   "execution_count": 10,
   "metadata": {},
   "outputs": [],
   "source": [
    "# 2. 모델 구성하기\n",
    "model = Sequential()\n",
    "model.add(Conv2D(32, kernel_size=(3, 3),\n",
    "                 activation='relu',\n",
    "                 input_shape=(64,64,3)))\n",
    "# input_shape = 샘플 수를 제외한 입력 형태 정의. 모델의 첫 레이어에만 정의하면 됨. (행, 열, 채널 수)로 정의.\n",
    "# 흑백인 경우 채널을 1로 설정하고 컬러인 경우 채널을 3으로 설정함.\n",
    "\n",
    "model.add(Conv2D(64, (3, 3), activation='relu'))\n",
    "# 첫 번째 인자: 컨볼루션 필터의 수, 두 번째 인자 : 컨볼루션 커널의 행,열\n",
    "# activation = 활성화 함수를 설정함. relu = rectifier 함수, 은닉층에 주로 사용\n",
    "\n",
    "model.add(MaxPooling2D(pool_size=(2, 2)))\n",
    "# 컨볼루션 출력 이미지에서 주요값만 뽑아 크기가 작은 출력영상을 만듬. 지역적인 사소한 변화가 영향을 미치지 않도록 함.\n",
    "# 이름을 잘 인식못하면 빼봐도 좋을 것 같음.\n",
    "\n",
    "model.add(Flatten())\n",
    "model.add(Dense(128, activation='relu'))\n",
    "# 출력 뉴런 수 128개\n",
    "model.add(Dropout(0.5))\n",
    "# dropout 테스트\n",
    "model.add(Dense(19, activation='softmax'))"
   ]
  },
  {
   "cell_type": "code",
   "execution_count": 11,
   "metadata": {},
   "outputs": [],
   "source": [
    "# 3. 모델 학습과정 설정하기\n",
    "model.compile(loss='categorical_crossentropy', optimizer='adam', metrics=['accuracy'])"
   ]
  },
  {
   "cell_type": "code",
   "execution_count": 12,
   "metadata": {},
   "outputs": [
    {
     "name": "stdout",
     "output_type": "stream",
     "text": [
      "Epoch 1/50\n",
      "15/15 [==============================] - 59s 4s/step - loss: 3.0701 - accuracy: 0.2917 - val_loss: 2.1103 - val_accuracy: 0.4437\n",
      "Epoch 2/50\n",
      "15/15 [==============================] - 58s 4s/step - loss: 1.0652 - accuracy: 0.7479 - val_loss: 0.3658 - val_accuracy: 0.9500\n",
      "Epoch 3/50\n",
      "15/15 [==============================] - 57s 4s/step - loss: 0.2004 - accuracy: 0.9641 - val_loss: 0.1012 - val_accuracy: 0.9750\n",
      "Epoch 4/50\n",
      "15/15 [==============================] - 71s 5s/step - loss: 0.0764 - accuracy: 0.9812 - val_loss: 0.1342 - val_accuracy: 0.9686\n",
      "Epoch 5/50\n",
      "15/15 [==============================] - 50s 3s/step - loss: 0.0193 - accuracy: 0.9979 - val_loss: 0.1009 - val_accuracy: 0.9750\n",
      "Epoch 6/50\n",
      "15/15 [==============================] - 57s 4s/step - loss: 0.0120 - accuracy: 0.9958 - val_loss: 0.0017 - val_accuracy: 0.9875\n",
      "Epoch 7/50\n",
      "15/15 [==============================] - 68s 5s/step - loss: 0.0238 - accuracy: 0.9917 - val_loss: 0.2970 - val_accuracy: 0.9686\n",
      "Epoch 8/50\n",
      "15/15 [==============================] - 47s 3s/step - loss: 0.0061 - accuracy: 1.0000 - val_loss: 0.0564 - val_accuracy: 0.9750\n",
      "Epoch 9/50\n",
      "15/15 [==============================] - 56s 4s/step - loss: 0.0016 - accuracy: 1.0000 - val_loss: 0.0013 - val_accuracy: 1.0000\n",
      "Epoch 10/50\n",
      "15/15 [==============================] - 63s 4s/step - loss: 0.0020 - accuracy: 1.0000 - val_loss: 0.1314 - val_accuracy: 0.9937\n",
      "Epoch 11/50\n",
      "15/15 [==============================] - 50s 3s/step - loss: 0.0011 - accuracy: 1.0000 - val_loss: 7.0577e-04 - val_accuracy: 0.9812\n",
      "Epoch 12/50\n",
      "15/15 [==============================] - 58s 4s/step - loss: 7.9835e-04 - accuracy: 1.0000 - val_loss: 0.1039 - val_accuracy: 0.9812\n",
      "Epoch 13/50\n",
      "15/15 [==============================] - 60s 4s/step - loss: 7.0503e-04 - accuracy: 1.0000 - val_loss: 0.4746 - val_accuracy: 0.9686\n",
      "Epoch 14/50\n",
      "15/15 [==============================] - 55s 4s/step - loss: 5.4403e-04 - accuracy: 1.0000 - val_loss: 3.4716e-04 - val_accuracy: 0.9937\n",
      "Epoch 15/50\n",
      "15/15 [==============================] - 56s 4s/step - loss: 4.4879e-04 - accuracy: 1.0000 - val_loss: 0.0047 - val_accuracy: 0.9875\n",
      "Epoch 16/50\n",
      "15/15 [==============================] - 57s 4s/step - loss: 3.7023e-04 - accuracy: 1.0000 - val_loss: 0.0027 - val_accuracy: 0.9937\n",
      "Epoch 17/50\n",
      "15/15 [==============================] - 55s 4s/step - loss: 2.3474e-04 - accuracy: 1.0000 - val_loss: 5.7636e-04 - val_accuracy: 0.9875\n",
      "Epoch 18/50\n",
      "15/15 [==============================] - 56s 4s/step - loss: 3.6113e-04 - accuracy: 1.0000 - val_loss: 0.2129 - val_accuracy: 0.9750\n",
      "Epoch 19/50\n",
      "15/15 [==============================] - 56s 4s/step - loss: 2.0950e-04 - accuracy: 1.0000 - val_loss: 1.3195e-04 - val_accuracy: 0.9875\n",
      "Epoch 20/50\n",
      "15/15 [==============================] - 71s 5s/step - loss: 2.9543e-04 - accuracy: 1.0000 - val_loss: 0.0012 - val_accuracy: 0.9811\n",
      "Epoch 21/50\n",
      "15/15 [==============================] - 43s 3s/step - loss: 2.6512e-04 - accuracy: 1.0000 - val_loss: 1.4793e-04 - val_accuracy: 0.9937\n",
      "Epoch 22/50\n",
      "15/15 [==============================] - 56s 4s/step - loss: 1.6660e-04 - accuracy: 1.0000 - val_loss: 0.1580 - val_accuracy: 0.9812\n",
      "Epoch 23/50\n",
      "15/15 [==============================] - 67s 4s/step - loss: 1.7939e-04 - accuracy: 1.0000 - val_loss: 0.0011 - val_accuracy: 0.9937\n",
      "Epoch 24/50\n",
      "15/15 [==============================] - 50s 3s/step - loss: 1.6616e-04 - accuracy: 1.0000 - val_loss: 0.3121 - val_accuracy: 0.9750\n",
      "Epoch 25/50\n",
      "15/15 [==============================] - 56s 4s/step - loss: 1.4249e-04 - accuracy: 1.0000 - val_loss: 8.9851e-04 - val_accuracy: 0.9812\n",
      "Epoch 26/50\n",
      "15/15 [==============================] - 62s 4s/step - loss: 1.6575e-04 - accuracy: 1.0000 - val_loss: 0.0856 - val_accuracy: 0.9874\n",
      "Epoch 27/50\n",
      "15/15 [==============================] - 50s 3s/step - loss: 1.2681e-04 - accuracy: 1.0000 - val_loss: 1.1185e-04 - val_accuracy: 0.9812\n",
      "Epoch 28/50\n",
      "15/15 [==============================] - 56s 4s/step - loss: 1.5740e-04 - accuracy: 1.0000 - val_loss: 0.1693 - val_accuracy: 0.9812\n",
      "Epoch 29/50\n",
      "15/15 [==============================] - 59s 4s/step - loss: 9.6299e-05 - accuracy: 1.0000 - val_loss: 0.1409 - val_accuracy: 0.9874\n",
      "Epoch 30/50\n",
      "15/15 [==============================] - 53s 4s/step - loss: 9.8787e-05 - accuracy: 1.0000 - val_loss: 0.2065 - val_accuracy: 0.9812\n",
      "Epoch 31/50\n",
      "15/15 [==============================] - 54s 4s/step - loss: 1.0894e-04 - accuracy: 1.0000 - val_loss: 0.1038 - val_accuracy: 0.9812\n",
      "Epoch 32/50\n",
      "15/15 [==============================] - 55s 4s/step - loss: 9.5289e-05 - accuracy: 1.0000 - val_loss: 7.8109e-05 - val_accuracy: 0.9937\n",
      "Epoch 33/50\n",
      "15/15 [==============================] - 55s 4s/step - loss: 1.0691e-04 - accuracy: 1.0000 - val_loss: 4.8306e-04 - val_accuracy: 0.9750\n",
      "Epoch 34/50\n",
      "15/15 [==============================] - 54s 4s/step - loss: 1.0039e-04 - accuracy: 1.0000 - val_loss: 1.5594e-05 - val_accuracy: 1.0000\n",
      "Epoch 35/50\n",
      "15/15 [==============================] - 54s 4s/step - loss: 6.5157e-05 - accuracy: 1.0000 - val_loss: 0.3377 - val_accuracy: 0.9812\n",
      "Epoch 36/50\n",
      "15/15 [==============================] - 70s 5s/step - loss: 7.6420e-05 - accuracy: 1.0000 - val_loss: 0.2036 - val_accuracy: 0.9623\n",
      "Epoch 37/50\n",
      "15/15 [==============================] - 44s 3s/step - loss: 8.7141e-05 - accuracy: 1.0000 - val_loss: 0.3365 - val_accuracy: 0.9875\n",
      "Epoch 38/50\n",
      "15/15 [==============================] - 58s 4s/step - loss: 5.9932e-05 - accuracy: 1.0000 - val_loss: 3.2545e-05 - val_accuracy: 1.0000\n",
      "Epoch 39/50\n",
      "15/15 [==============================] - 66s 4s/step - loss: 5.7249e-05 - accuracy: 1.0000 - val_loss: 0.0604 - val_accuracy: 0.9874\n",
      "Epoch 40/50\n",
      "15/15 [==============================] - 47s 3s/step - loss: 6.7929e-05 - accuracy: 1.0000 - val_loss: 1.7521e-04 - val_accuracy: 0.9875\n",
      "Epoch 41/50\n",
      "15/15 [==============================] - 60s 4s/step - loss: 5.9291e-05 - accuracy: 1.0000 - val_loss: 0.3740 - val_accuracy: 0.9688\n",
      "Epoch 42/50\n",
      "15/15 [==============================] - 63s 4s/step - loss: 5.3473e-05 - accuracy: 1.0000 - val_loss: 2.3893e-05 - val_accuracy: 1.0000\n",
      "Epoch 43/50\n",
      "15/15 [==============================] - 49s 3s/step - loss: 5.0354e-05 - accuracy: 1.0000 - val_loss: 5.8572e-05 - val_accuracy: 0.9812\n",
      "Epoch 44/50\n",
      "15/15 [==============================] - 54s 4s/step - loss: 4.1123e-05 - accuracy: 1.0000 - val_loss: 0.1586 - val_accuracy: 0.9812\n",
      "Epoch 45/50\n",
      "15/15 [==============================] - 59s 4s/step - loss: 4.1011e-05 - accuracy: 1.0000 - val_loss: 0.3530 - val_accuracy: 0.9686\n",
      "Epoch 46/50\n",
      "15/15 [==============================] - 51s 3s/step - loss: 5.1931e-05 - accuracy: 1.0000 - val_loss: 0.1213 - val_accuracy: 0.9875\n",
      "Epoch 47/50\n",
      "15/15 [==============================] - 55s 4s/step - loss: 4.3134e-05 - accuracy: 1.0000 - val_loss: 0.0019 - val_accuracy: 1.0000\n",
      "Epoch 48/50\n",
      "15/15 [==============================] - 55s 4s/step - loss: 4.1601e-05 - accuracy: 1.0000 - val_loss: 0.0073 - val_accuracy: 0.9811\n",
      "Epoch 49/50\n",
      "15/15 [==============================] - 56s 4s/step - loss: 3.7639e-05 - accuracy: 1.0000 - val_loss: 0.1642 - val_accuracy: 0.9875\n",
      "Epoch 50/50\n",
      "15/15 [==============================] - 55s 4s/step - loss: 3.1860e-05 - accuracy: 1.0000 - val_loss: 0.1454 - val_accuracy: 0.9875\n"
     ]
    }
   ],
   "source": [
    "# 4. 모델 학습시키기\n",
    "hist = model.fit_generator(\n",
    "        train_generator,\n",
    "        steps_per_epoch=15,\n",
    "        epochs=50,\n",
    "        validation_data=test_generator,\n",
    "        validation_steps=5)\n",
    "# 속도 개선하려면 batch or steps_per_epoch 좀 줄이면 가능할 것 같음.\n",
    "# ImageDataGenerator라는 제너레이터로 이미지를 담고 있는 배치로 학습시키기 때문에, fit_generator() 함수 사용\n",
    "# 1번 인자 : 훈련 데이터셋 제너레이터\n",
    "# 2번 인자 : 한 epoch에 사용한 스텝 수\n",
    "# 3번 인자 : 전체 훈련 데이터 셋에 대해 학습 반복 횟수\n",
    "# 4번 인자 : 검증 데이터셋을 제공할 제너레이터 지정\n",
    "# 5번 인자 : 한 epoch 종료 시 마다 검증할 때 사용되는 검증 스텝 수를 지정함."
   ]
  },
  {
   "cell_type": "code",
   "execution_count": 13,
   "metadata": {},
   "outputs": [
    {
     "name": "stdout",
     "output_type": "stream",
     "text": [
      "-- Evaluate --\n",
      "accuracy: 98.75%\n"
     ]
    }
   ],
   "source": [
    "# 5. 모델 평가하기\n",
    "print(\"-- Evaluate --\")\n",
    "scores = model.evaluate_generator(test_generator, steps=5)\n",
    "print(\"%s: %.2f%%\" %(model.metrics_names[1], scores[1]*100))\n"
   ]
  },
  {
   "cell_type": "code",
   "execution_count": 14,
   "metadata": {},
   "outputs": [
    {
     "name": "stdout",
     "output_type": "stream",
     "text": [
      "-- Predict --\n",
      "{'1N4007G-T': 0, '1N4148': 1, '2N2222': 2, '2N3055G': 3, '2N3904': 4, '2SD882': 5, '497-1443-5-ND': 6, '497-2569-5-ND': 7, '497-3957-5-ND': 8, 'BC547B': 9, 'CA3240EZ': 10, 'CHN915': 11, 'HA17555': 12, 'IRF840': 13, 'KBY772-330': 14, 'LM339N': 15, 'LM741CN': 16, 'MC34063AD': 17, 'PC817': 18}\n",
      "[[0.000 0.000 0.000 ... 0.000 0.000 0.000]\n",
      " [0.000 0.000 0.000 ... 0.000 0.000 0.000]\n",
      " [0.000 0.000 0.000 ... 0.000 0.000 0.000]\n",
      " ...\n",
      " [0.000 0.000 0.000 ... 0.000 0.000 0.000]\n",
      " [0.000 0.000 0.000 ... 0.000 0.000 0.000]\n",
      " [0.000 0.000 0.000 ... 0.000 0.000 0.000]]\n"
     ]
    }
   ],
   "source": [
    "# 6. 모델 사용하기\n",
    "print(\"-- Predict --\")\n",
    "output = model.predict_generator(test_generator, steps=5)\n",
    "np.set_printoptions(formatter={'float': lambda x: \"{0:0.3f}\".format(x)})\n",
    "print(test_generator.class_indices)\n",
    "print(output)\n",
    "# 클래스별 확률 벡터로 출력"
   ]
  },
  {
   "cell_type": "code",
   "execution_count": 15,
   "metadata": {},
   "outputs": [],
   "source": [
    "# 모델 저장\n",
    "model_dir = 'C:/Users/interbird/Desktop/semiconductor/model'\n",
    "hdf5_file = 'C:/Users/interbird/Desktop/semiconductor/hd5'\n",
    "\n",
    "if not os.path.exists(model_dir):\n",
    "    os.mkdir(model_dir)\n",
    "    \n",
    "if not os.path.exists(hdf5_file):\n",
    "    model.save_weights(hdf5_file)\n",
    "\n",
    "model_path = model_dir + '/multi_img_classification.model'\n",
    "\n",
    "model.save('C:/Users/interbird/Desktop/semiconductor/my_model.h5')\n"
   ]
  },
  {
   "cell_type": "code",
   "execution_count": 16,
   "metadata": {},
   "outputs": [
    {
     "name": "stdout",
     "output_type": "stream",
     "text": [
      "test_image로 예상되는 부품은:  17 번째 카테고리 입니다.\n"
     ]
    }
   ],
   "source": [
    "test_image = 'C:/Users/interbird/Desktop/semiconductor/test_photo.jpg'\n",
    "\n",
    "img = Image.open(test_image)\n",
    "img = img.convert(\"RGB\")\n",
    "img = img.resize((64,64))\n",
    "data = np.asarray(img)\n",
    "\n",
    "X = np.array(data)\n",
    "X = X.astype(\"float\")/256\n",
    "X = X.reshape(-1,64,64,3)\n",
    "\n",
    "pred = model.predict(X)\n",
    "result = [np.argmax(value) for value in pred]\n",
    "print('test_image로 예상되는 부품은: ', result[0], \"번째 카테고리 입니다.\")\n",
    "#print(pred)"
   ]
  },
  {
   "cell_type": "code",
   "execution_count": 21,
   "metadata": {},
   "outputs": [
    {
     "data": {
      "image/png": "[encoded data removed]",
      "text/plain": [
       "<Figure size 432x288 with 2 Axes>"
      ]
     },
     "metadata": {
      "needs_background": "light"
     },
     "output_type": "display_data"
    }
   ],
   "source": [
    "# 모델 학습 과정 표시\n",
    "\n",
    "matplotlib inline\n",
    "import matplotlib.pyplot as plt\n",
    "\n",
    "fig, loss_ax = plt.subplots()\n",
    "\n",
    "acc_ax = loss_ax.twinx()\n",
    "\n",
    "loss_ax.plot(hist.history['loss'], 'y', label='train loss')\n",
    "loss_ax.plot(hist.history['val_loss'], 'r', label='val loss')\n",
    "\n",
    "acc_ax.plot(hist.history['accuracy'], 'b', label='train acc')\n",
    "acc_ax.plot(hist.history['val_accuracy'], 'g', label='val acc')\n",
    "\n",
    "loss_ax.set_xlabel('epoch')\n",
    "loss_ax.set_ylabel('loss')\n",
    "acc_ax.set_ylabel('accuray')\n",
    "\n",
    "loss_ax.legend(loc='upper left')\n",
    "acc_ax.legend(loc='lower left')\n",
    "\n",
    "plt.show()\n",
    "\n",
    "# acc, 정확도\n",
    "# loss, 손실"
   ]
  }
 ],
 "metadata": {
  "kernelspec": {
   "display_name": "Python [conda env:test] *",
   "language": "python",
   "name": "conda-env-test-py"
  },
  "language_info": {
   "codemirror_mode": {
    "name": "ipython",
    "version": 3
   },
   "file_extension": ".py",
   "mimetype": "text/x-python",
   "name": "python",
   "nbconvert_exporter": "python",
   "pygments_lexer": "ipython3",
   "version": "3.7.7"
  }
 },
 "nbformat": 4,
 "nbformat_minor": 4
}
